{
 "cells": [
  {
   "cell_type": "code",
   "execution_count": 1,
   "id": "revised-personality",
   "metadata": {},
   "outputs": [],
   "source": [
    "import numpy as np\n",
    "import pandas as pd\n",
    "\n",
    "import seaborn as sns\n",
    "import matplotlib.pyplot as plt\n",
    "\n",
    "from statsmodels.tsa.arima.model import ARIMA\n",
    "\n",
    "from sklearn.metrics import mean_absolute_error"
   ]
  },
  {
   "cell_type": "code",
   "execution_count": 2,
   "id": "prepared-tampa",
   "metadata": {},
   "outputs": [],
   "source": [
    "dfCCO = pd.read_csv(r\"..\\Data\\cco_cost_monthly.csv\")"
   ]
  },
  {
   "cell_type": "code",
   "execution_count": 3,
   "id": "natural-blackberry",
   "metadata": {},
   "outputs": [],
   "source": [
    "dfPYCO = pd.read_csv(r\"..\\Data\\pyco_cost_monthly.csv\", low_memory=False)"
   ]
  },
  {
   "cell_type": "code",
   "execution_count": 4,
   "id": "august-review",
   "metadata": {},
   "outputs": [],
   "source": [
    "dfXCO = pd.read_csv(r\"..\\Data\\xco_cost_monthly.csv\")"
   ]
  },
  {
   "cell_type": "code",
   "execution_count": 5,
   "id": "radical-disney",
   "metadata": {},
   "outputs": [],
   "source": [
    "def process_data(df):\n",
    "    return df.groupby(\"invoice_month\").agg({\"total_cost\": \"sum\"})"
   ]
  },
  {
   "cell_type": "code",
   "execution_count": 6,
   "id": "swedish-verification",
   "metadata": {},
   "outputs": [],
   "source": [
    "dfPYCO_processed = process_data(dfPYCO)\n",
    "dfXCO_processed = process_data(dfXCO)\n",
    "dfCCO_processed = process_data(dfCCO)"
   ]
  },
  {
   "cell_type": "code",
   "execution_count": 43,
   "id": "happy-yesterday",
   "metadata": {},
   "outputs": [
    {
     "data": {
      "text/plain": [
       "15"
      ]
     },
     "execution_count": 43,
     "metadata": {},
     "output_type": "execute_result"
    }
   ],
   "source": [
    "len(dfPYCO_processed)"
   ]
  },
  {
   "cell_type": "code",
   "execution_count": 7,
   "id": "exterior-system",
   "metadata": {},
   "outputs": [
    {
     "data": {
      "text/plain": [
       "<AxesSubplot:xlabel='Lag', ylabel='Autocorrelation'>"
      ]
     },
     "execution_count": 7,
     "metadata": {},
     "output_type": "execute_result"
    },
    {
     "data": {
      "image/png": "[encoded data removed]",
      "text/plain": [
       "<Figure size 432x288 with 1 Axes>"
      ]
     },
     "metadata": {
      "needs_background": "light"
     },
     "output_type": "display_data"
    }
   ],
   "source": [
    "pd.plotting.autocorrelation_plot(dfPYCO_processed)"
   ]
  },
  {
   "cell_type": "code",
   "execution_count": 8,
   "id": "derived-nothing",
   "metadata": {
    "tags": []
   },
   "outputs": [
    {
     "name": "stdout",
     "output_type": "stream",
     "text": [
      "                               SARIMAX Results                                \n",
      "==============================================================================\n",
      "Dep. Variable:             total_cost   No. Observations:                   15\n",
      "Model:                 ARIMA(5, 1, 0)   Log Likelihood                -121.325\n",
      "Date:                Tue, 27 Apr 2021   AIC                            254.649\n",
      "Time:                        10:46:07   BIC                            258.483\n",
      "Sample:                    09-01-2019   HQIC                           254.294\n",
      "                         - 11-01-2020                                         \n",
      "Covariance Type:                  opg                                         \n",
      "==============================================================================\n",
      "                 coef    std err          z      P>|z|      [0.025      0.975]\n",
      "------------------------------------------------------------------------------\n",
      "ar.L1         -0.2791      0.593     -0.471      0.638      -1.441       0.883\n",
      "ar.L2         -0.2124      0.772     -0.275      0.783      -1.726       1.302\n",
      "ar.L3         -0.2580      0.635     -0.406      0.685      -1.502       0.986\n",
      "ar.L4         -0.1490      0.837     -0.178      0.859      -1.790       1.492\n",
      "ar.L5         -0.2598      0.765     -0.340      0.734      -1.758       1.239\n",
      "sigma2      2.142e+06   1.16e+06      1.843      0.065   -1.36e+05    4.42e+06\n",
      "===================================================================================\n",
      "Ljung-Box (L1) (Q):                   0.21   Jarque-Bera (JB):                11.31\n",
      "Prob(Q):                              0.64   Prob(JB):                         0.00\n",
      "Heteroskedasticity (H):              32.27   Skew:                            -1.79\n",
      "Prob(H) (two-sided):                  0.00   Kurtosis:                         5.55\n",
      "===================================================================================\n",
      "\n",
      "Warnings:\n",
      "[1] Covariance matrix calculated using the outer product of gradients (complex-step).\n"
     ]
    },
    {
     "name": "stderr",
     "output_type": "stream",
     "text": [
      "C:\\Users\\irvin\\anaconda3\\lib\\site-packages\\statsmodels\\tsa\\base\\tsa_model.py:524: ValueWarning: No frequency information was provided, so inferred frequency MS will be used.\n",
      "  warnings.warn('No frequency information was'\n",
      "C:\\Users\\irvin\\anaconda3\\lib\\site-packages\\statsmodels\\tsa\\base\\tsa_model.py:524: ValueWarning: No frequency information was provided, so inferred frequency MS will be used.\n",
      "  warnings.warn('No frequency information was'\n",
      "C:\\Users\\irvin\\anaconda3\\lib\\site-packages\\statsmodels\\tsa\\base\\tsa_model.py:524: ValueWarning: No frequency information was provided, so inferred frequency MS will be used.\n",
      "  warnings.warn('No frequency information was'\n",
      "C:\\Users\\irvin\\anaconda3\\lib\\site-packages\\statsmodels\\tsa\\statespace\\sarimax.py:966: UserWarning: Non-stationary starting autoregressive parameters found. Using zeros as starting parameters.\n",
      "  warn('Non-stationary starting autoregressive parameters'\n"
     ]
    },
    {
     "data": {
      "image/png": "[encoded data removed]",
      "text/plain": [
       "<Figure size 432x288 with 1 Axes>"
      ]
     },
     "metadata": {
      "needs_background": "light"
     },
     "output_type": "display_data"
    },
    {
     "data": {
      "image/png": "[encoded data removed]",
      "text/plain": [
       "<Figure size 432x288 with 1 Axes>"
      ]
     },
     "metadata": {
      "needs_background": "light"
     },
     "output_type": "display_data"
    },
    {
     "name": "stdout",
     "output_type": "stream",
     "text": [
      "                  0\n",
      "count     15.000000\n",
      "mean     494.235051\n",
      "std     3420.766851\n",
      "min    -4243.347290\n",
      "25%     -306.729948\n",
      "50%      316.267682\n",
      "75%      573.105308\n",
      "max    11868.213465\n"
     ]
    }
   ],
   "source": [
    "model = ARIMA(dfPYCO_processed, order=(5,1,0))\n",
    "model_fit = model.fit()\n",
    "# summary of fit model\n",
    "print(model_fit.summary())\n",
    "# line plot of residuals\n",
    "residuals = pd.DataFrame(model_fit.resid)\n",
    "residuals.plot()\n",
    "plt.show()\n",
    "# density plot of residuals\n",
    "residuals.plot(kind='kde')\n",
    "plt.show()\n",
    "# summary stats of residuals\n",
    "print(residuals.describe())"
   ]
  },
  {
   "cell_type": "code",
   "execution_count": 25,
   "id": "competent-documentation",
   "metadata": {},
   "outputs": [],
   "source": [
    "# evaluate an ARIMA model for a given order (p,d,q)\n",
    "def evaluate_arima_model(X, arima_order):\n",
    "    # prepare training dataset\n",
    "    train_size = int(len(X) * 0.80)\n",
    "    train, test = X.total_cost[0:train_size], X.total_cost[train_size:]\n",
    "    history = train.to_list()\n",
    "    test = test.to_list()\n",
    "    # make predictions\n",
    "    predictions = list()\n",
    "    for t in range(len(test)):\n",
    "        model = ARIMA(history, order=arima_order)\n",
    "        model_fit = model.fit()\n",
    "        yhat = model_fit.forecast()[0]\n",
    "        predictions.append(yhat)\n",
    "        history.append(test[t])\n",
    "    # calculate out of sample error\n",
    "    mae = mean_absolute_error(test, predictions)\n",
    "    return mae"
   ]
  },
  {
   "cell_type": "code",
   "execution_count": 37,
   "id": "political-perry",
   "metadata": {},
   "outputs": [],
   "source": [
    "# evaluate combinations of p, d and q values for an ARIMA model\n",
    "def evaluate_models(dataset, p_values, d_values, q_values):\n",
    "    best_score, best_cfg = float(\"inf\"), None\n",
    "    for p in p_values:\n",
    "        for d in d_values:\n",
    "            for q in q_values:\n",
    "                order = (p,d,q)\n",
    "                try:\n",
    "                    mae = evaluate_arima_model(dataset, order)\n",
    "                    if mae < best_score:\n",
    "                        best_score, best_cfg = mae, order\n",
    "                    print('ARIMA%s MAE=%.3f' % (order,mae))\n",
    "                except:\n",
    "                    continue\n",
    "    print('Best ARIMA%s MAE=%.3f' % (best_cfg, best_score))"
   ]
  },
  {
   "cell_type": "code",
   "execution_count": 38,
   "id": "inclusive-ambassador",
   "metadata": {},
   "outputs": [],
   "source": [
    "import warnings\n",
    "warnings.filterwarnings(\"ignore\")"
   ]
  },
  {
   "cell_type": "code",
   "execution_count": 39,
   "id": "confidential-abraham",
   "metadata": {},
   "outputs": [
    {
     "name": "stdout",
     "output_type": "stream",
     "text": [
      "ARIMA(0, 0, 0) MAE=281.117\n",
      "ARIMA(0, 0, 1) MAE=364.254\n",
      "ARIMA(0, 0, 2) MAE=263.057\n",
      "ARIMA(0, 0, 3) MAE=201.614\n",
      "ARIMA(0, 1, 0) MAE=13.425\n",
      "ARIMA(0, 1, 1) MAE=99.445\n",
      "ARIMA(0, 1, 2) MAE=225.865\n",
      "ARIMA(0, 1, 3) MAE=99.506\n",
      "ARIMA(0, 2, 0) MAE=148.774\n",
      "ARIMA(0, 2, 1) MAE=235.552\n",
      "ARIMA(0, 2, 2) MAE=262.996\n",
      "ARIMA(0, 2, 3) MAE=246.612\n",
      "ARIMA(0, 3, 0) MAE=419.898\n",
      "ARIMA(0, 3, 1) MAE=292.009\n",
      "ARIMA(0, 3, 2) MAE=334.674\n",
      "ARIMA(0, 3, 3) MAE=366.394\n",
      "ARIMA(1, 0, 0) MAE=164.258\n",
      "ARIMA(1, 0, 1) MAE=123.687\n",
      "ARIMA(1, 0, 2) MAE=201.192\n",
      "ARIMA(1, 0, 3) MAE=165.359\n",
      "ARIMA(1, 1, 0) MAE=52.292\n",
      "ARIMA(1, 1, 1) MAE=239.402\n",
      "ARIMA(1, 1, 2) MAE=159.342\n",
      "ARIMA(1, 1, 3) MAE=205.392\n",
      "ARIMA(1, 2, 0) MAE=277.288\n",
      "ARIMA(1, 2, 1) MAE=247.308\n",
      "ARIMA(1, 2, 2) MAE=205.046\n",
      "ARIMA(1, 2, 3) MAE=246.476\n",
      "ARIMA(1, 3, 0) MAE=320.997\n",
      "ARIMA(1, 3, 1) MAE=361.306\n",
      "ARIMA(1, 3, 2) MAE=278.132\n",
      "ARIMA(1, 3, 3) MAE=311.591\n",
      "ARIMA(2, 0, 0) MAE=180.972\n",
      "ARIMA(2, 0, 1) MAE=179.329\n",
      "ARIMA(2, 0, 2) MAE=159.731\n",
      "ARIMA(2, 0, 3) MAE=141.673\n",
      "ARIMA(2, 1, 0) MAE=130.157\n",
      "ARIMA(2, 1, 1) MAE=163.991\n",
      "ARIMA(2, 1, 2) MAE=250.673\n",
      "ARIMA(2, 1, 3) MAE=140.392\n",
      "ARIMA(2, 2, 0) MAE=90.951\n",
      "ARIMA(2, 2, 1) MAE=300.197\n",
      "ARIMA(2, 2, 2) MAE=233.857\n",
      "ARIMA(2, 2, 3) MAE=271.940\n",
      "ARIMA(2, 3, 0) MAE=237.485\n",
      "ARIMA(2, 3, 1) MAE=280.732\n",
      "ARIMA(2, 3, 2) MAE=299.633\n",
      "ARIMA(2, 3, 3) MAE=312.419\n",
      "ARIMA(3, 0, 0) MAE=202.484\n",
      "ARIMA(3, 0, 1) MAE=258.894\n",
      "ARIMA(3, 0, 2) MAE=68.043\n",
      "ARIMA(3, 0, 3) MAE=173.707\n",
      "ARIMA(3, 1, 0) MAE=13.425\n",
      "ARIMA(3, 1, 1) MAE=151.554\n",
      "ARIMA(3, 1, 2) MAE=249.699\n",
      "ARIMA(3, 1, 3) MAE=271.233\n",
      "ARIMA(3, 2, 0) MAE=270.267\n",
      "ARIMA(3, 2, 1) MAE=314.457\n",
      "ARIMA(3, 2, 2) MAE=271.041\n",
      "ARIMA(3, 2, 3) MAE=295.376\n",
      "ARIMA(3, 3, 0) MAE=350.855\n",
      "ARIMA(3, 3, 1) MAE=349.975\n",
      "ARIMA(3, 3, 2) MAE=246.031\n",
      "ARIMA(3, 3, 3) MAE=299.154\n",
      "Best ARIMA(3, 1, 0) MAE=13.425\n"
     ]
    }
   ],
   "source": [
    "p_range = range(4)\n",
    "d_range = range(4)\n",
    "q_range = range(4)\n",
    "\n",
    "evaluate_models(dfCCO_processed, p_range, d_range, q_range)"
   ]
  },
  {
   "cell_type": "code",
   "execution_count": 40,
   "id": "olympic-spray",
   "metadata": {},
   "outputs": [
    {
     "name": "stdout",
     "output_type": "stream",
     "text": [
      "ARIMA(0, 0, 0) MAE=1684.609\n",
      "ARIMA(0, 0, 1) MAE=1755.722\n",
      "ARIMA(0, 0, 2) MAE=2077.263\n",
      "ARIMA(0, 1, 0) MAE=2132.703\n",
      "ARIMA(0, 1, 1) MAE=2138.033\n",
      "ARIMA(0, 1, 2) MAE=2031.945\n",
      "ARIMA(0, 2, 0) MAE=2130.603\n",
      "ARIMA(0, 2, 1) MAE=2138.017\n",
      "ARIMA(0, 2, 2) MAE=2131.694\n",
      "ARIMA(0, 3, 0) MAE=2435.132\n",
      "ARIMA(0, 3, 1) MAE=2160.036\n",
      "ARIMA(0, 3, 2) MAE=2257.110\n",
      "ARIMA(1, 0, 0) MAE=2000.355\n",
      "ARIMA(1, 0, 1) MAE=2064.943\n",
      "ARIMA(1, 0, 2) MAE=1955.637\n",
      "ARIMA(1, 1, 0) MAE=2136.629\n",
      "ARIMA(1, 1, 1) MAE=2182.684\n",
      "ARIMA(1, 1, 2) MAE=2027.486\n",
      "ARIMA(1, 2, 0) MAE=2183.122\n",
      "ARIMA(1, 2, 1) MAE=2054.243\n",
      "ARIMA(1, 2, 2) MAE=2136.448\n",
      "ARIMA(1, 3, 0) MAE=2509.074\n",
      "ARIMA(1, 3, 1) MAE=2316.774\n",
      "ARIMA(1, 3, 2) MAE=19670.353\n",
      "ARIMA(2, 0, 0) MAE=2083.518\n",
      "ARIMA(2, 0, 1) MAE=2166.151\n",
      "ARIMA(2, 0, 2) MAE=1842.251\n",
      "ARIMA(2, 1, 0) MAE=2146.714\n",
      "ARIMA(2, 1, 1) MAE=2033.258\n",
      "ARIMA(2, 1, 2) MAE=2108.066\n",
      "ARIMA(2, 2, 0) MAE=2213.344\n",
      "ARIMA(2, 2, 1) MAE=2106.989\n",
      "ARIMA(2, 2, 2) MAE=2503.360\n",
      "ARIMA(2, 3, 0) MAE=2379.080\n",
      "ARIMA(2, 3, 1) MAE=2332.649\n",
      "ARIMA(2, 3, 2) MAE=40359.950\n",
      "ARIMA(3, 0, 0) MAE=2134.704\n",
      "ARIMA(3, 0, 1) MAE=1925.713\n",
      "ARIMA(3, 0, 2) MAE=1982.684\n",
      "ARIMA(3, 1, 0) MAE=2223.391\n",
      "ARIMA(3, 1, 1) MAE=2010.499\n",
      "ARIMA(3, 1, 2) MAE=2096.967\n",
      "ARIMA(3, 2, 0) MAE=2200.054\n",
      "ARIMA(3, 2, 1) MAE=2171.407\n",
      "ARIMA(3, 2, 2) MAE=2564.113\n",
      "ARIMA(3, 3, 0) MAE=2012.510\n",
      "ARIMA(3, 3, 1) MAE=2337.279\n",
      "ARIMA(4, 0, 0) MAE=2021.214\n",
      "ARIMA(4, 0, 1) MAE=1935.316\n",
      "ARIMA(4, 0, 2) MAE=2003.220\n",
      "ARIMA(4, 1, 0) MAE=2231.183\n",
      "ARIMA(4, 1, 1) MAE=2046.032\n",
      "ARIMA(4, 1, 2) MAE=2279.653\n",
      "ARIMA(4, 2, 0) MAE=2113.199\n",
      "ARIMA(4, 2, 1) MAE=2158.966\n",
      "ARIMA(4, 3, 0) MAE=2330.770\n",
      "ARIMA(4, 3, 1) MAE=2189.988\n",
      "ARIMA(4, 3, 2) MAE=64794.551\n",
      "ARIMA(5, 0, 0) MAE=1865.903\n",
      "ARIMA(5, 0, 1) MAE=1847.939\n",
      "ARIMA(5, 0, 2) MAE=2535.383\n",
      "ARIMA(5, 1, 0) MAE=1980.266\n",
      "ARIMA(5, 1, 1) MAE=2038.754\n",
      "ARIMA(5, 1, 2) MAE=32232.831\n",
      "ARIMA(5, 2, 0) MAE=2187.413\n",
      "ARIMA(5, 2, 1) MAE=5174.031\n",
      "ARIMA(5, 3, 0) MAE=40552.322\n",
      "ARIMA(5, 3, 1) MAE=40235.564\n",
      "ARIMA(5, 3, 2) MAE=47741.455\n",
      "Best ARIMA(0, 0, 0) MAE=1684.609\n"
     ]
    }
   ],
   "source": [
    "p_range = range(6)\n",
    "d_range = range(4)\n",
    "q_range = range(4)\n",
    "\n",
    "evaluate_models(dfPYCO_processed, p_range, d_range, q_range)"
   ]
  },
  {
   "cell_type": "code",
   "execution_count": 41,
   "id": "alpine-composer",
   "metadata": {},
   "outputs": [
    {
     "name": "stdout",
     "output_type": "stream",
     "text": [
      "ARIMA(0, 0, 0) MAE=979.281\n",
      "ARIMA(0, 0, 1) MAE=766.462\n",
      "ARIMA(0, 0, 2) MAE=494.024\n",
      "ARIMA(0, 0, 3) MAE=498.183\n",
      "ARIMA(0, 1, 0) MAE=433.965\n",
      "ARIMA(0, 1, 1) MAE=442.251\n",
      "ARIMA(0, 1, 2) MAE=523.570\n",
      "ARIMA(0, 2, 0) MAE=349.404\n",
      "ARIMA(0, 2, 1) MAE=619.974\n",
      "ARIMA(0, 2, 2) MAE=722.227\n",
      "ARIMA(0, 3, 0) MAE=618.520\n",
      "ARIMA(0, 3, 1) MAE=321.697\n",
      "ARIMA(0, 3, 2) MAE=452.900\n",
      "ARIMA(1, 0, 0) MAE=325.687\n",
      "ARIMA(1, 0, 1) MAE=306.825\n",
      "ARIMA(1, 0, 2) MAE=405.702\n",
      "ARIMA(1, 0, 3) MAE=349.491\n",
      "ARIMA(1, 1, 0) MAE=447.986\n",
      "ARIMA(1, 1, 1) MAE=498.138\n",
      "ARIMA(1, 1, 2) MAE=442.272\n",
      "ARIMA(1, 2, 0) MAE=524.954\n",
      "ARIMA(1, 2, 1) MAE=662.632\n",
      "ARIMA(1, 2, 2) MAE=723.033\n",
      "ARIMA(1, 3, 0) MAE=706.902\n",
      "ARIMA(1, 3, 1) MAE=514.693\n",
      "ARIMA(1, 3, 2) MAE=601.376\n",
      "ARIMA(2, 0, 0) MAE=300.180\n",
      "ARIMA(2, 0, 1) MAE=333.801\n",
      "ARIMA(2, 0, 2) MAE=412.990\n",
      "ARIMA(2, 0, 3) MAE=587.341\n",
      "ARIMA(2, 1, 0) MAE=526.303\n",
      "ARIMA(2, 1, 1) MAE=588.846\n",
      "ARIMA(2, 1, 2) MAE=452.461\n",
      "ARIMA(2, 2, 0) MAE=606.824\n",
      "ARIMA(2, 2, 1) MAE=633.188\n",
      "ARIMA(2, 2, 2) MAE=697.283\n",
      "ARIMA(2, 3, 0) MAE=636.585\n",
      "ARIMA(2, 3, 1) MAE=597.333\n",
      "ARIMA(2, 3, 2) MAE=7904.508\n",
      "ARIMA(3, 0, 0) MAE=452.131\n",
      "ARIMA(3, 0, 1) MAE=441.296\n",
      "ARIMA(3, 0, 2) MAE=520.923\n",
      "ARIMA(3, 0, 3) MAE=509.466\n",
      "ARIMA(3, 1, 0) MAE=594.570\n",
      "ARIMA(3, 1, 1) MAE=619.162\n",
      "ARIMA(3, 1, 2) MAE=547.657\n",
      "ARIMA(3, 2, 0) MAE=653.290\n",
      "ARIMA(3, 2, 1) MAE=645.572\n",
      "ARIMA(3, 2, 2) MAE=523.677\n",
      "ARIMA(3, 3, 0) MAE=303.120\n",
      "ARIMA(3, 3, 1) MAE=439.717\n",
      "ARIMA(3, 3, 2) MAE=16787.705\n",
      "ARIMA(4, 0, 0) MAE=484.947\n",
      "ARIMA(4, 0, 1) MAE=424.049\n",
      "ARIMA(4, 0, 2) MAE=570.896\n",
      "ARIMA(4, 0, 3) MAE=604.418\n",
      "ARIMA(4, 1, 0) MAE=657.628\n",
      "ARIMA(4, 1, 1) MAE=660.687\n",
      "ARIMA(4, 1, 2) MAE=474.039\n",
      "ARIMA(4, 2, 0) MAE=651.152\n",
      "ARIMA(4, 2, 1) MAE=598.309\n",
      "ARIMA(4, 3, 0) MAE=65937.316\n",
      "ARIMA(4, 3, 1) MAE=645.675\n",
      "ARIMA(4, 3, 2) MAE=27461.797\n",
      "ARIMA(5, 0, 0) MAE=339.953\n",
      "ARIMA(5, 0, 1) MAE=394.115\n",
      "ARIMA(5, 0, 2) MAE=516.310\n",
      "ARIMA(5, 1, 0) MAE=603.808\n",
      "ARIMA(5, 1, 1) MAE=552.632\n",
      "ARIMA(5, 1, 2) MAE=311.942\n",
      "ARIMA(5, 2, 0) MAE=804.790\n",
      "ARIMA(5, 2, 1) MAE=6645.405\n",
      "ARIMA(5, 2, 2) MAE=948.595\n",
      "ARIMA(5, 3, 0) MAE=7758.849\n",
      "ARIMA(5, 3, 1) MAE=7802.728\n",
      "ARIMA(5, 3, 2) MAE=27419.429\n",
      "Best ARIMA(2, 0, 0) MAE=300.180\n"
     ]
    }
   ],
   "source": [
    "p_range = range(6)\n",
    "d_range = range(4)\n",
    "q_range = range(4)\n",
    "\n",
    "evaluate_models(dfXCO_processed, p_range, d_range, q_range)"
   ]
  }
 ],
 "metadata": {
  "kernelspec": {
   "display_name": "Python 3",
   "language": "python",
   "name": "python3"
  },
  "language_info": {
   "codemirror_mode": {
    "name": "ipython",
    "version": 3
   },
   "file_extension": ".py",
   "mimetype": "text/x-python",
   "name": "python",
   "nbconvert_exporter": "python",
   "pygments_lexer": "ipython3",
   "version": "3.8.5"
  }
 },
 "nbformat": 4,
 "nbformat_minor": 5
}
