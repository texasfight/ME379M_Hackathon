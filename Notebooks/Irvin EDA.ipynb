{
 "cells": [
  {
   "cell_type": "markdown",
   "id": "loose-person",
   "metadata": {},
   "source": [
    "# Import statements"
   ]
  },
  {
   "cell_type": "code",
   "execution_count": 37,
   "id": "available-sudan",
   "metadata": {},
   "outputs": [],
   "source": [
    "import numpy as np\n",
    "import pandas as pd\n",
    "\n",
    "import seaborn as sns\n",
    "import matplotlib.pyplot as plt"
   ]
  },
  {
   "cell_type": "markdown",
   "id": "domestic-secretariat",
   "metadata": {},
   "source": [
    "# Import Data"
   ]
  },
  {
   "cell_type": "code",
   "execution_count": 2,
   "id": "hearing-union",
   "metadata": {},
   "outputs": [],
   "source": [
    "dfCCO = pd.read_csv(r\"..\\Data\\cco_cost_monthly.csv\")"
   ]
  },
  {
   "cell_type": "code",
   "execution_count": 3,
   "id": "prescription-canada",
   "metadata": {},
   "outputs": [],
   "source": [
    "dfPYCO = pd.read_csv(r\"..\\Data\\pyco_cost_monthly.csv\", low_memory=False)"
   ]
  },
  {
   "cell_type": "code",
   "execution_count": 4,
   "id": "acceptable-building",
   "metadata": {},
   "outputs": [],
   "source": [
    "dfXCO = pd.read_csv(r\"..\\Data\\xco_cost_monthly.csv\")"
   ]
  },
  {
   "cell_type": "markdown",
   "id": "sexual-pound",
   "metadata": {},
   "source": [
    "# EDA and analysis"
   ]
  },
  {
   "cell_type": "code",
   "execution_count": 5,
   "id": "worthy-boring",
   "metadata": {},
   "outputs": [
    {
     "data": {
      "text/html": [
       "<div>\n",
       "<style scoped>\n",
       "    .dataframe tbody tr th:only-of-type {\n",
       "        vertical-align: middle;\n",
       "    }\n",
       "\n",
       "    .dataframe tbody tr th {\n",
       "        vertical-align: top;\n",
       "    }\n",
       "\n",
       "    .dataframe thead th {\n",
       "        text-align: right;\n",
       "    }\n",
       "</style>\n",
       "<table border=\"1\" class=\"dataframe\">\n",
       "  <thead>\n",
       "    <tr style=\"text-align: right;\">\n",
       "      <th></th>\n",
       "      <th>cloud_resource_id</th>\n",
       "      <th>usage_account_id</th>\n",
       "      <th>billing_account_id</th>\n",
       "      <th>provider_code</th>\n",
       "      <th>usage_amount</th>\n",
       "      <th>currency_code</th>\n",
       "      <th>tax</th>\n",
       "      <th>sub_total</th>\n",
       "      <th>total_cost</th>\n",
       "      <th>system_currency_code</th>\n",
       "      <th>...</th>\n",
       "      <th>pricing_unit</th>\n",
       "      <th>memory</th>\n",
       "      <th>operating_system</th>\n",
       "      <th>vpcu</th>\n",
       "      <th>phsyical_processor</th>\n",
       "      <th>volume_type</th>\n",
       "      <th>storage</th>\n",
       "      <th>storage_class</th>\n",
       "      <th>storage_media</th>\n",
       "      <th>invoice_month</th>\n",
       "    </tr>\n",
       "  </thead>\n",
       "  <tbody>\n",
       "    <tr>\n",
       "      <th>0</th>\n",
       "      <td>NaN</td>\n",
       "      <td>751355800400</td>\n",
       "      <td>751355800400</td>\n",
       "      <td>aws</td>\n",
       "      <td>1.0</td>\n",
       "      <td>USD</td>\n",
       "      <td>0.0</td>\n",
       "      <td>0.0</td>\n",
       "      <td>0.03</td>\n",
       "      <td>USD</td>\n",
       "      <td>...</td>\n",
       "      <td>NaN</td>\n",
       "      <td>NaN</td>\n",
       "      <td>NaN</td>\n",
       "      <td>NaN</td>\n",
       "      <td>NaN</td>\n",
       "      <td>NaN</td>\n",
       "      <td>NaN</td>\n",
       "      <td>NaN</td>\n",
       "      <td>NaN</td>\n",
       "      <td>2020-08-01</td>\n",
       "    </tr>\n",
       "    <tr>\n",
       "      <th>1</th>\n",
       "      <td>NaN</td>\n",
       "      <td>751355800400</td>\n",
       "      <td>751355800400</td>\n",
       "      <td>aws</td>\n",
       "      <td>2.0</td>\n",
       "      <td>USD</td>\n",
       "      <td>0.0</td>\n",
       "      <td>0.0</td>\n",
       "      <td>0.07</td>\n",
       "      <td>USD</td>\n",
       "      <td>...</td>\n",
       "      <td>NaN</td>\n",
       "      <td>NaN</td>\n",
       "      <td>NaN</td>\n",
       "      <td>NaN</td>\n",
       "      <td>NaN</td>\n",
       "      <td>NaN</td>\n",
       "      <td>NaN</td>\n",
       "      <td>NaN</td>\n",
       "      <td>NaN</td>\n",
       "      <td>2020-08-01</td>\n",
       "    </tr>\n",
       "    <tr>\n",
       "      <th>2</th>\n",
       "      <td>NaN</td>\n",
       "      <td>751355800400</td>\n",
       "      <td>751355800400</td>\n",
       "      <td>aws</td>\n",
       "      <td>1.0</td>\n",
       "      <td>USD</td>\n",
       "      <td>0.0</td>\n",
       "      <td>0.0</td>\n",
       "      <td>0.00</td>\n",
       "      <td>USD</td>\n",
       "      <td>...</td>\n",
       "      <td>NaN</td>\n",
       "      <td>NaN</td>\n",
       "      <td>NaN</td>\n",
       "      <td>NaN</td>\n",
       "      <td>NaN</td>\n",
       "      <td>NaN</td>\n",
       "      <td>NaN</td>\n",
       "      <td>NaN</td>\n",
       "      <td>NaN</td>\n",
       "      <td>2020-08-01</td>\n",
       "    </tr>\n",
       "    <tr>\n",
       "      <th>3</th>\n",
       "      <td>arn:aws:kms:us-east-1:751355800400:key/5fedb8a...</td>\n",
       "      <td>751355800400</td>\n",
       "      <td>751355800400</td>\n",
       "      <td>aws</td>\n",
       "      <td>18.0</td>\n",
       "      <td>USD</td>\n",
       "      <td>0.0</td>\n",
       "      <td>0.0</td>\n",
       "      <td>0.00</td>\n",
       "      <td>USD</td>\n",
       "      <td>...</td>\n",
       "      <td>Requests</td>\n",
       "      <td>NaN</td>\n",
       "      <td>NaN</td>\n",
       "      <td>NaN</td>\n",
       "      <td>NaN</td>\n",
       "      <td>NaN</td>\n",
       "      <td>NaN</td>\n",
       "      <td>NaN</td>\n",
       "      <td>NaN</td>\n",
       "      <td>2020-08-01</td>\n",
       "    </tr>\n",
       "    <tr>\n",
       "      <th>4</th>\n",
       "      <td>arn:aws:cognito-idp:us-east-1:751355800400:use...</td>\n",
       "      <td>751355800400</td>\n",
       "      <td>751355800400</td>\n",
       "      <td>aws</td>\n",
       "      <td>2.0</td>\n",
       "      <td>USD</td>\n",
       "      <td>0.0</td>\n",
       "      <td>0.0</td>\n",
       "      <td>0.00</td>\n",
       "      <td>USD</td>\n",
       "      <td>...</td>\n",
       "      <td>Requests</td>\n",
       "      <td>NaN</td>\n",
       "      <td>NaN</td>\n",
       "      <td>NaN</td>\n",
       "      <td>NaN</td>\n",
       "      <td>NaN</td>\n",
       "      <td>NaN</td>\n",
       "      <td>NaN</td>\n",
       "      <td>NaN</td>\n",
       "      <td>2020-08-01</td>\n",
       "    </tr>\n",
       "  </tbody>\n",
       "</table>\n",
       "<p>5 rows × 44 columns</p>\n",
       "</div>"
      ],
      "text/plain": [
       "                                   cloud_resource_id  usage_account_id  \\\n",
       "0                                                NaN      751355800400   \n",
       "1                                                NaN      751355800400   \n",
       "2                                                NaN      751355800400   \n",
       "3  arn:aws:kms:us-east-1:751355800400:key/5fedb8a...      751355800400   \n",
       "4  arn:aws:cognito-idp:us-east-1:751355800400:use...      751355800400   \n",
       "\n",
       "   billing_account_id provider_code  usage_amount currency_code  tax  \\\n",
       "0        751355800400           aws           1.0           USD  0.0   \n",
       "1        751355800400           aws           2.0           USD  0.0   \n",
       "2        751355800400           aws           1.0           USD  0.0   \n",
       "3        751355800400           aws          18.0           USD  0.0   \n",
       "4        751355800400           aws           2.0           USD  0.0   \n",
       "\n",
       "   sub_total  total_cost system_currency_code  ...  pricing_unit  memory  \\\n",
       "0        0.0        0.03                  USD  ...           NaN     NaN   \n",
       "1        0.0        0.07                  USD  ...           NaN     NaN   \n",
       "2        0.0        0.00                  USD  ...           NaN     NaN   \n",
       "3        0.0        0.00                  USD  ...      Requests     NaN   \n",
       "4        0.0        0.00                  USD  ...      Requests     NaN   \n",
       "\n",
       "  operating_system vpcu phsyical_processor volume_type storage storage_class  \\\n",
       "0              NaN  NaN                NaN         NaN     NaN           NaN   \n",
       "1              NaN  NaN                NaN         NaN     NaN           NaN   \n",
       "2              NaN  NaN                NaN         NaN     NaN           NaN   \n",
       "3              NaN  NaN                NaN         NaN     NaN           NaN   \n",
       "4              NaN  NaN                NaN         NaN     NaN           NaN   \n",
       "\n",
       "  storage_media invoice_month  \n",
       "0           NaN    2020-08-01  \n",
       "1           NaN    2020-08-01  \n",
       "2           NaN    2020-08-01  \n",
       "3           NaN    2020-08-01  \n",
       "4           NaN    2020-08-01  \n",
       "\n",
       "[5 rows x 44 columns]"
      ]
     },
     "execution_count": 5,
     "metadata": {},
     "output_type": "execute_result"
    }
   ],
   "source": [
    "dfCCO.head()"
   ]
  },
  {
   "cell_type": "code",
   "execution_count": 42,
   "id": "opponent-weight",
   "metadata": {},
   "outputs": [
    {
     "data": {
      "text/plain": [
       "array(['2020-08-01', '2020-10-01', '2021-03-01', '2020-09-01',\n",
       "       '2021-01-01', '2020-12-01', '2021-02-01', '2020-11-01'],\n",
       "      dtype=object)"
      ]
     },
     "execution_count": 42,
     "metadata": {},
     "output_type": "execute_result"
    }
   ],
   "source": [
    "dfCCO[\"invoice_month\"].unique()"
   ]
  },
  {
   "cell_type": "code",
   "execution_count": 6,
   "id": "trained-detector",
   "metadata": {},
   "outputs": [
    {
     "data": {
      "text/html": [
       "<div>\n",
       "<style scoped>\n",
       "    .dataframe tbody tr th:only-of-type {\n",
       "        vertical-align: middle;\n",
       "    }\n",
       "\n",
       "    .dataframe tbody tr th {\n",
       "        vertical-align: top;\n",
       "    }\n",
       "\n",
       "    .dataframe thead th {\n",
       "        text-align: right;\n",
       "    }\n",
       "</style>\n",
       "<table border=\"1\" class=\"dataframe\">\n",
       "  <thead>\n",
       "    <tr style=\"text-align: right;\">\n",
       "      <th></th>\n",
       "      <th>usage_account_id</th>\n",
       "      <th>billing_account_id</th>\n",
       "      <th>usage_amount</th>\n",
       "      <th>tax</th>\n",
       "      <th>sub_total</th>\n",
       "      <th>total_cost</th>\n",
       "      <th>conversion_rate</th>\n",
       "      <th>converted_total_cost</th>\n",
       "      <th>blended_rate</th>\n",
       "      <th>unblended_rate</th>\n",
       "      <th>unblended_cost</th>\n",
       "      <th>pricing_rate_id</th>\n",
       "      <th>public_ondemand_cost</th>\n",
       "      <th>public_ondemand_rate</th>\n",
       "      <th>vpcu</th>\n",
       "    </tr>\n",
       "  </thead>\n",
       "  <tbody>\n",
       "    <tr>\n",
       "      <th>count</th>\n",
       "      <td>2.480000e+03</td>\n",
       "      <td>2.480000e+03</td>\n",
       "      <td>2480.000000</td>\n",
       "      <td>2480.0</td>\n",
       "      <td>2480.0</td>\n",
       "      <td>2480.000000</td>\n",
       "      <td>2480.0</td>\n",
       "      <td>2480.000000</td>\n",
       "      <td>2480.000000</td>\n",
       "      <td>2480.000000</td>\n",
       "      <td>2480.000000</td>\n",
       "      <td>2.432000e+03</td>\n",
       "      <td>2.480000e+03</td>\n",
       "      <td>2480.000000</td>\n",
       "      <td>127.000000</td>\n",
       "    </tr>\n",
       "    <tr>\n",
       "      <th>mean</th>\n",
       "      <td>7.513558e+11</td>\n",
       "      <td>7.513558e+11</td>\n",
       "      <td>138.260043</td>\n",
       "      <td>0.0</td>\n",
       "      <td>0.0</td>\n",
       "      <td>0.572872</td>\n",
       "      <td>1.0</td>\n",
       "      <td>0.572872</td>\n",
       "      <td>0.019913</td>\n",
       "      <td>0.019913</td>\n",
       "      <td>0.572872</td>\n",
       "      <td>2.542116e+09</td>\n",
       "      <td>5.402971e-01</td>\n",
       "      <td>0.038027</td>\n",
       "      <td>2.181102</td>\n",
       "    </tr>\n",
       "    <tr>\n",
       "      <th>std</th>\n",
       "      <td>0.000000e+00</td>\n",
       "      <td>0.000000e+00</td>\n",
       "      <td>3015.668306</td>\n",
       "      <td>0.0</td>\n",
       "      <td>0.0</td>\n",
       "      <td>5.289228</td>\n",
       "      <td>0.0</td>\n",
       "      <td>5.289228</td>\n",
       "      <td>0.242920</td>\n",
       "      <td>0.242920</td>\n",
       "      <td>5.289228</td>\n",
       "      <td>3.406562e+08</td>\n",
       "      <td>5.270190e+00</td>\n",
       "      <td>0.256320</td>\n",
       "      <td>0.706178</td>\n",
       "    </tr>\n",
       "    <tr>\n",
       "      <th>min</th>\n",
       "      <td>7.513558e+11</td>\n",
       "      <td>7.513558e+11</td>\n",
       "      <td>0.000000</td>\n",
       "      <td>0.0</td>\n",
       "      <td>0.0</td>\n",
       "      <td>0.000000</td>\n",
       "      <td>1.0</td>\n",
       "      <td>0.000000</td>\n",
       "      <td>0.000000</td>\n",
       "      <td>0.000000</td>\n",
       "      <td>0.000000</td>\n",
       "      <td>1.636605e+09</td>\n",
       "      <td>0.000000e+00</td>\n",
       "      <td>0.000000</td>\n",
       "      <td>1.000000</td>\n",
       "    </tr>\n",
       "    <tr>\n",
       "      <th>25%</th>\n",
       "      <td>7.513558e+11</td>\n",
       "      <td>7.513558e+11</td>\n",
       "      <td>0.000004</td>\n",
       "      <td>0.0</td>\n",
       "      <td>0.0</td>\n",
       "      <td>0.000000</td>\n",
       "      <td>1.0</td>\n",
       "      <td>0.000000</td>\n",
       "      <td>0.000000</td>\n",
       "      <td>0.000000</td>\n",
       "      <td>0.000000</td>\n",
       "      <td>2.276567e+09</td>\n",
       "      <td>0.000000e+00</td>\n",
       "      <td>0.000000</td>\n",
       "      <td>2.000000</td>\n",
       "    </tr>\n",
       "    <tr>\n",
       "      <th>50%</th>\n",
       "      <td>7.513558e+11</td>\n",
       "      <td>7.513558e+11</td>\n",
       "      <td>0.000342</td>\n",
       "      <td>0.0</td>\n",
       "      <td>0.0</td>\n",
       "      <td>0.000000</td>\n",
       "      <td>1.0</td>\n",
       "      <td>0.000000</td>\n",
       "      <td>0.000000</td>\n",
       "      <td>0.000000</td>\n",
       "      <td>0.000000</td>\n",
       "      <td>2.557254e+09</td>\n",
       "      <td>2.729000e-07</td>\n",
       "      <td>0.010400</td>\n",
       "      <td>2.000000</td>\n",
       "    </tr>\n",
       "    <tr>\n",
       "      <th>75%</th>\n",
       "      <td>7.513558e+11</td>\n",
       "      <td>7.513558e+11</td>\n",
       "      <td>0.343660</td>\n",
       "      <td>0.0</td>\n",
       "      <td>0.0</td>\n",
       "      <td>0.000046</td>\n",
       "      <td>1.0</td>\n",
       "      <td>0.000046</td>\n",
       "      <td>0.020000</td>\n",
       "      <td>0.020000</td>\n",
       "      <td>0.000046</td>\n",
       "      <td>2.850091e+09</td>\n",
       "      <td>2.068233e-04</td>\n",
       "      <td>0.030000</td>\n",
       "      <td>2.000000</td>\n",
       "    </tr>\n",
       "    <tr>\n",
       "      <th>max</th>\n",
       "      <td>7.513558e+11</td>\n",
       "      <td>7.513558e+11</td>\n",
       "      <td>100512.000000</td>\n",
       "      <td>0.0</td>\n",
       "      <td>0.0</td>\n",
       "      <td>132.254000</td>\n",
       "      <td>1.0</td>\n",
       "      <td>132.254000</td>\n",
       "      <td>12.000000</td>\n",
       "      <td>12.000000</td>\n",
       "      <td>132.254000</td>\n",
       "      <td>3.087511e+09</td>\n",
       "      <td>1.322540e+02</td>\n",
       "      <td>12.000000</td>\n",
       "      <td>4.000000</td>\n",
       "    </tr>\n",
       "  </tbody>\n",
       "</table>\n",
       "</div>"
      ],
      "text/plain": [
       "       usage_account_id  billing_account_id   usage_amount     tax  sub_total  \\\n",
       "count      2.480000e+03        2.480000e+03    2480.000000  2480.0     2480.0   \n",
       "mean       7.513558e+11        7.513558e+11     138.260043     0.0        0.0   \n",
       "std        0.000000e+00        0.000000e+00    3015.668306     0.0        0.0   \n",
       "min        7.513558e+11        7.513558e+11       0.000000     0.0        0.0   \n",
       "25%        7.513558e+11        7.513558e+11       0.000004     0.0        0.0   \n",
       "50%        7.513558e+11        7.513558e+11       0.000342     0.0        0.0   \n",
       "75%        7.513558e+11        7.513558e+11       0.343660     0.0        0.0   \n",
       "max        7.513558e+11        7.513558e+11  100512.000000     0.0        0.0   \n",
       "\n",
       "        total_cost  conversion_rate  converted_total_cost  blended_rate  \\\n",
       "count  2480.000000           2480.0           2480.000000   2480.000000   \n",
       "mean      0.572872              1.0              0.572872      0.019913   \n",
       "std       5.289228              0.0              5.289228      0.242920   \n",
       "min       0.000000              1.0              0.000000      0.000000   \n",
       "25%       0.000000              1.0              0.000000      0.000000   \n",
       "50%       0.000000              1.0              0.000000      0.000000   \n",
       "75%       0.000046              1.0              0.000046      0.020000   \n",
       "max     132.254000              1.0            132.254000     12.000000   \n",
       "\n",
       "       unblended_rate  unblended_cost  pricing_rate_id  public_ondemand_cost  \\\n",
       "count     2480.000000     2480.000000     2.432000e+03          2.480000e+03   \n",
       "mean         0.019913        0.572872     2.542116e+09          5.402971e-01   \n",
       "std          0.242920        5.289228     3.406562e+08          5.270190e+00   \n",
       "min          0.000000        0.000000     1.636605e+09          0.000000e+00   \n",
       "25%          0.000000        0.000000     2.276567e+09          0.000000e+00   \n",
       "50%          0.000000        0.000000     2.557254e+09          2.729000e-07   \n",
       "75%          0.020000        0.000046     2.850091e+09          2.068233e-04   \n",
       "max         12.000000      132.254000     3.087511e+09          1.322540e+02   \n",
       "\n",
       "       public_ondemand_rate        vpcu  \n",
       "count           2480.000000  127.000000  \n",
       "mean               0.038027    2.181102  \n",
       "std                0.256320    0.706178  \n",
       "min                0.000000    1.000000  \n",
       "25%                0.000000    2.000000  \n",
       "50%                0.010400    2.000000  \n",
       "75%                0.030000    2.000000  \n",
       "max               12.000000    4.000000  "
      ]
     },
     "execution_count": 6,
     "metadata": {},
     "output_type": "execute_result"
    }
   ],
   "source": [
    "dfCCO.describe()"
   ]
  },
  {
   "cell_type": "code",
   "execution_count": 7,
   "id": "rapid-imagination",
   "metadata": {},
   "outputs": [
    {
     "name": "stdout",
     "output_type": "stream",
     "text": [
      "(2480, 44) (956584, 44) (24946, 44)\n"
     ]
    }
   ],
   "source": [
    "print(dfCCO.shape, dfPYCO.shape, dfXCO.shape)"
   ]
  },
  {
   "cell_type": "code",
   "execution_count": 10,
   "id": "alpha-calgary",
   "metadata": {},
   "outputs": [
    {
     "data": {
      "text/plain": [
       "array(['USD'], dtype=object)"
      ]
     },
     "execution_count": 10,
     "metadata": {},
     "output_type": "execute_result"
    }
   ],
   "source": [
    "dfCCO.loc[:, \"currency_code\"].unique()"
   ]
  },
  {
   "cell_type": "code",
   "execution_count": 12,
   "id": "excited-documentation",
   "metadata": {},
   "outputs": [
    {
     "data": {
      "text/plain": [
       "array(['USD'], dtype=object)"
      ]
     },
     "execution_count": 12,
     "metadata": {},
     "output_type": "execute_result"
    }
   ],
   "source": [
    "dfPYCO.loc[:, \"currency_code\"].unique()"
   ]
  },
  {
   "cell_type": "code",
   "execution_count": 13,
   "id": "structured-soccer",
   "metadata": {},
   "outputs": [],
   "source": [
    "dfCCO[\"origin\"] = \"CCO\""
   ]
  },
  {
   "cell_type": "code",
   "execution_count": 14,
   "id": "israeli-comfort",
   "metadata": {},
   "outputs": [],
   "source": [
    "dfPYCO[\"origin\"] = \"PYCO\""
   ]
  },
  {
   "cell_type": "code",
   "execution_count": 15,
   "id": "beautiful-fisher",
   "metadata": {},
   "outputs": [],
   "source": [
    "dfXCO[\"origin\"] = \"XCO\""
   ]
  },
  {
   "cell_type": "code",
   "execution_count": 19,
   "id": "entertaining-suicide",
   "metadata": {},
   "outputs": [],
   "source": [
    "dfTotal = pd.concat([dfCCO, dfPYCO, dfXCO], axis=0)"
   ]
  },
  {
   "cell_type": "markdown",
   "id": "departmental-lloyd",
   "metadata": {},
   "source": [
    "A total of almost a million rows and 45 columns! This is a pretty hefty dataset and will need some knowledge to compute higher level ideas."
   ]
  },
  {
   "cell_type": "code",
   "execution_count": 20,
   "id": "coastal-blond",
   "metadata": {},
   "outputs": [
    {
     "data": {
      "text/plain": [
       "(984010, 45)"
      ]
     },
     "execution_count": 20,
     "metadata": {},
     "output_type": "execute_result"
    }
   ],
   "source": [
    "dfTotal.shape"
   ]
  },
  {
   "cell_type": "markdown",
   "id": "reliable-summary",
   "metadata": {},
   "source": [
    "Get a sense of the percent null counts for each column"
   ]
  },
  {
   "cell_type": "code",
   "execution_count": 24,
   "id": "danish-switzerland",
   "metadata": {},
   "outputs": [
    {
     "data": {
      "text/plain": [
       "cloud_resource_id       0.003146\n",
       "usage_account_id        0.000000\n",
       "billing_account_id      0.000000\n",
       "provider_code           0.000000\n",
       "usage_amount            0.000000\n",
       "currency_code           0.000000\n",
       "tax                     0.000000\n",
       "sub_total               0.000000\n",
       "total_cost              0.000000\n",
       "system_currency_code    0.000000\n",
       "conversion_rate         0.000000\n",
       "converted_total_cost    0.000000\n",
       "product_name            0.000000\n",
       "service_code            0.084868\n",
       "service_name            0.084906\n",
       "product_sku             0.000605\n",
       "availability_zone       0.995690\n",
       "location_id             0.000605\n",
       "usage_type              0.084868\n",
       "usage_type_group        0.989718\n",
       "cost_type               0.000000\n",
       "instance_type           0.996030\n",
       "blended_rate            0.000000\n",
       "unblended_rate          0.000000\n",
       "unblended_cost          0.000000\n",
       "category                0.000000\n",
       "clock_speed             0.996988\n",
       "from_location           0.577076\n",
       "to_location             0.577076\n",
       "transfer_type           0.577076\n",
       "pricing_rate_id         0.000605\n",
       "public_ondemand_cost    0.000000\n",
       "public_ondemand_rate    0.000000\n",
       "pricing_term            0.097949\n",
       "pricing_unit            0.000605\n",
       "memory                  0.996018\n",
       "operating_system        0.996992\n",
       "vpcu                    0.996012\n",
       "phsyical_processor      0.996180\n",
       "volume_type             0.996372\n",
       "storage                 0.996179\n",
       "storage_class           0.998962\n",
       "storage_media           0.985840\n",
       "invoice_month           0.000000\n",
       "origin                  0.000000\n",
       "dtype: float64"
      ]
     },
     "execution_count": 24,
     "metadata": {},
     "output_type": "execute_result"
    }
   ],
   "source": [
    "dfTotal.isna().sum() / dfTotal.shape[0]"
   ]
  },
  {
   "cell_type": "code",
   "execution_count": 25,
   "id": "conceptual-giving",
   "metadata": {},
   "outputs": [
    {
     "data": {
      "text/plain": [
       "cloud_resource_id       279088\n",
       "usage_account_id             4\n",
       "billing_account_id           3\n",
       "provider_code                1\n",
       "usage_amount            111997\n",
       "currency_code                1\n",
       "tax                          1\n",
       "sub_total                    1\n",
       "total_cost              132600\n",
       "system_currency_code         1\n",
       "conversion_rate              1\n",
       "converted_total_cost    132600\n",
       "product_name                47\n",
       "service_code                41\n",
       "service_name                40\n",
       "product_sku                598\n",
       "availability_zone           13\n",
       "location_id                 18\n",
       "usage_type                 525\n",
       "usage_type_group            61\n",
       "cost_type                    6\n",
       "instance_type               52\n",
       "blended_rate               479\n",
       "unblended_rate             143\n",
       "unblended_cost          127870\n",
       "category                    60\n",
       "clock_speed                 11\n",
       "from_location               24\n",
       "to_location                 28\n",
       "transfer_type                6\n",
       "pricing_rate_id           2866\n",
       "public_ondemand_cost     66222\n",
       "public_ondemand_rate       138\n",
       "pricing_term                 2\n",
       "pricing_unit                56\n",
       "memory                      17\n",
       "operating_system             3\n",
       "vpcu                         6\n",
       "phsyical_processor          11\n",
       "volume_type                 10\n",
       "storage                      6\n",
       "storage_class                3\n",
       "storage_media                6\n",
       "invoice_month               19\n",
       "origin                       3\n",
       "dtype: int64"
      ]
     },
     "execution_count": 25,
     "metadata": {},
     "output_type": "execute_result"
    }
   ],
   "source": [
    "dfTotal.nunique()"
   ]
  },
  {
   "cell_type": "markdown",
   "id": "judicial-restriction",
   "metadata": {},
   "source": [
    "All of these clients are exclusively using AWS and not something like Azure or Google Cloud Services"
   ]
  },
  {
   "cell_type": "code",
   "execution_count": 26,
   "id": "homeless-vietnamese",
   "metadata": {},
   "outputs": [
    {
     "data": {
      "text/plain": [
       "array([nan, 'EBS only', 'EBS Only', '1 x 150 NVMe SSD', '60GB',\n",
       "       '1 x 475 NVMe SSD', '2 x 300 NVMe SSD'], dtype=object)"
      ]
     },
     "execution_count": 26,
     "metadata": {},
     "output_type": "execute_result"
    }
   ],
   "source": [
    "dfTotal[\"storage\"].unique()"
   ]
  },
  {
   "cell_type": "code",
   "execution_count": 29,
   "id": "consistent-major",
   "metadata": {},
   "outputs": [
    {
     "data": {
      "text/plain": [
       "array([nan, 'Linux', 'Windows', 'RHEL'], dtype=object)"
      ]
     },
     "execution_count": 29,
     "metadata": {},
     "output_type": "execute_result"
    }
   ],
   "source": [
    "dfTotal[\"operating_system\"].unique()"
   ]
  },
  {
   "cell_type": "code",
   "execution_count": 36,
   "id": "nuclear-cedar",
   "metadata": {},
   "outputs": [
    {
     "data": {
      "text/plain": [
       "cloud_resource_id       0.020946\n",
       "usage_account_id        0.020946\n",
       "billing_account_id      0.020946\n",
       "provider_code           0.020946\n",
       "usage_amount            0.020946\n",
       "currency_code           0.020946\n",
       "tax                     0.020946\n",
       "sub_total               0.020946\n",
       "total_cost              0.020946\n",
       "system_currency_code    0.020946\n",
       "conversion_rate         0.020946\n",
       "converted_total_cost    0.020946\n",
       "product_name            0.020946\n",
       "service_code            0.020946\n",
       "service_name            0.020946\n",
       "product_sku             0.020946\n",
       "availability_zone       0.020946\n",
       "location_id             0.020946\n",
       "usage_type              0.020946\n",
       "usage_type_group        0.000000\n",
       "cost_type               0.020946\n",
       "instance_type           0.020608\n",
       "blended_rate            0.020946\n",
       "unblended_rate          0.020946\n",
       "unblended_cost          0.020946\n",
       "category                0.020946\n",
       "clock_speed             0.019595\n",
       "from_location           0.000000\n",
       "to_location             0.000000\n",
       "transfer_type           0.000000\n",
       "pricing_rate_id         0.020946\n",
       "public_ondemand_cost    0.020946\n",
       "public_ondemand_rate    0.020946\n",
       "pricing_term            0.020946\n",
       "pricing_unit            0.020946\n",
       "memory                  0.020608\n",
       "operating_system        0.020946\n",
       "vpcu                    0.020608\n",
       "phsyical_processor      0.020608\n",
       "volume_type             0.000000\n",
       "storage                 0.020608\n",
       "storage_class           0.000000\n",
       "storage_media           0.000000\n",
       "invoice_month           0.020946\n",
       "origin                  0.020946\n",
       "dtype: float64"
      ]
     },
     "execution_count": 36,
     "metadata": {},
     "output_type": "execute_result"
    }
   ],
   "source": [
    "dfTotal[dfTotal[\"operating_system\"] == \"Windows\"].count() / dfTotal[\"operating_system\"].count()"
   ]
  },
  {
   "cell_type": "code",
   "execution_count": 40,
   "id": "educated-hamburg",
   "metadata": {},
   "outputs": [
    {
     "data": {
      "text/plain": [
       "array([[<AxesSubplot:title={'center':'usage_account_id'}>,\n",
       "        <AxesSubplot:title={'center':'billing_account_id'}>,\n",
       "        <AxesSubplot:title={'center':'usage_amount'}>,\n",
       "        <AxesSubplot:title={'center':'tax'}>],\n",
       "       [<AxesSubplot:title={'center':'sub_total'}>,\n",
       "        <AxesSubplot:title={'center':'total_cost'}>,\n",
       "        <AxesSubplot:title={'center':'conversion_rate'}>,\n",
       "        <AxesSubplot:title={'center':'converted_total_cost'}>],\n",
       "       [<AxesSubplot:title={'center':'blended_rate'}>,\n",
       "        <AxesSubplot:title={'center':'unblended_rate'}>,\n",
       "        <AxesSubplot:title={'center':'unblended_cost'}>,\n",
       "        <AxesSubplot:title={'center':'pricing_rate_id'}>],\n",
       "       [<AxesSubplot:title={'center':'public_ondemand_cost'}>,\n",
       "        <AxesSubplot:title={'center':'public_ondemand_rate'}>,\n",
       "        <AxesSubplot:title={'center':'vpcu'}>, <AxesSubplot:>]],\n",
       "      dtype=object)"
      ]
     },
     "execution_count": 40,
     "metadata": {},
     "output_type": "execute_result"
    },
    {
     "data": {
      "image/png": "[encoded data removed]",
      "text/plain": [
       "<Figure size 792x612 with 16 Axes>"
      ]
     },
     "metadata": {
      "needs_background": "light"
     },
     "output_type": "display_data"
    }
   ],
   "source": [
    "dfTotal.hist(figsize=(11,8.5))"
   ]
  },
  {
   "cell_type": "code",
   "execution_count": 45,
   "id": "leading-order",
   "metadata": {},
   "outputs": [
    {
     "data": {
      "text/html": [
       "<div>\n",
       "<style scoped>\n",
       "    .dataframe tbody tr th:only-of-type {\n",
       "        vertical-align: middle;\n",
       "    }\n",
       "\n",
       "    .dataframe tbody tr th {\n",
       "        vertical-align: top;\n",
       "    }\n",
       "\n",
       "    .dataframe thead th {\n",
       "        text-align: right;\n",
       "    }\n",
       "</style>\n",
       "<table border=\"1\" class=\"dataframe\">\n",
       "  <thead>\n",
       "    <tr style=\"text-align: right;\">\n",
       "      <th></th>\n",
       "      <th>service_name</th>\n",
       "      <th>product_name</th>\n",
       "    </tr>\n",
       "  </thead>\n",
       "  <tbody>\n",
       "    <tr>\n",
       "      <th>0</th>\n",
       "      <td>NaN</td>\n",
       "      <td>Elastic Load Balancing</td>\n",
       "    </tr>\n",
       "    <tr>\n",
       "      <th>1</th>\n",
       "      <td>NaN</td>\n",
       "      <td>Amazon Elastic Compute Cloud</td>\n",
       "    </tr>\n",
       "    <tr>\n",
       "      <th>2</th>\n",
       "      <td>NaN</td>\n",
       "      <td>Amazon Simple Storage Service</td>\n",
       "    </tr>\n",
       "    <tr>\n",
       "      <th>62</th>\n",
       "      <td>AWS Data Transfer</td>\n",
       "      <td>Elastic Load Balancing</td>\n",
       "    </tr>\n",
       "    <tr>\n",
       "      <th>63</th>\n",
       "      <td>AWS Data Transfer</td>\n",
       "      <td>Elastic Load Balancing</td>\n",
       "    </tr>\n",
       "    <tr>\n",
       "      <th>...</th>\n",
       "      <td>...</td>\n",
       "      <td>...</td>\n",
       "    </tr>\n",
       "    <tr>\n",
       "      <th>24878</th>\n",
       "      <td>AWS Data Transfer</td>\n",
       "      <td>Amazon Elastic Compute Cloud</td>\n",
       "    </tr>\n",
       "    <tr>\n",
       "      <th>24879</th>\n",
       "      <td>AWS Data Transfer</td>\n",
       "      <td>Amazon Elastic Compute Cloud</td>\n",
       "    </tr>\n",
       "    <tr>\n",
       "      <th>24880</th>\n",
       "      <td>AWS Data Transfer</td>\n",
       "      <td>Elastic Load Balancing</td>\n",
       "    </tr>\n",
       "    <tr>\n",
       "      <th>24881</th>\n",
       "      <td>AWS Data Transfer</td>\n",
       "      <td>Amazon Elastic Compute Cloud</td>\n",
       "    </tr>\n",
       "    <tr>\n",
       "      <th>24882</th>\n",
       "      <td>AWS Data Transfer</td>\n",
       "      <td>Amazon Elastic Compute Cloud</td>\n",
       "    </tr>\n",
       "  </tbody>\n",
       "</table>\n",
       "<p>499632 rows × 2 columns</p>\n",
       "</div>"
      ],
      "text/plain": [
       "            service_name                   product_name\n",
       "0                    NaN         Elastic Load Balancing\n",
       "1                    NaN   Amazon Elastic Compute Cloud\n",
       "2                    NaN  Amazon Simple Storage Service\n",
       "62     AWS Data Transfer         Elastic Load Balancing\n",
       "63     AWS Data Transfer         Elastic Load Balancing\n",
       "...                  ...                            ...\n",
       "24878  AWS Data Transfer   Amazon Elastic Compute Cloud\n",
       "24879  AWS Data Transfer   Amazon Elastic Compute Cloud\n",
       "24880  AWS Data Transfer         Elastic Load Balancing\n",
       "24881  AWS Data Transfer   Amazon Elastic Compute Cloud\n",
       "24882  AWS Data Transfer   Amazon Elastic Compute Cloud\n",
       "\n",
       "[499632 rows x 2 columns]"
      ]
     },
     "execution_count": 45,
     "metadata": {},
     "output_type": "execute_result"
    }
   ],
   "source": [
    "dfTotal.loc[dfTotal[\"product_name\"] != dfTotal[\"service_name\"]][[\"service_name\", \"product_name\"]]"
   ]
  },
  {
   "cell_type": "code",
   "execution_count": 46,
   "id": "recognized-wilderness",
   "metadata": {},
   "outputs": [
    {
     "data": {
      "text/plain": [
       "<pandas.core.groupby.generic.SeriesGroupBy object at 0x000001719FEA6FD0>"
      ]
     },
     "execution_count": 46,
     "metadata": {},
     "output_type": "execute_result"
    }
   ],
   "source": [
    "dfCCO.groupby(\"invoice_month\").agg(\"total_cost\")"
   ]
  },
  {
   "cell_type": "code",
   "execution_count": null,
   "id": "relative-chapel",
   "metadata": {},
   "outputs": [],
   "source": [
    "dfTotal[\"\"]"
   ]
  },
  {
   "cell_type": "code",
   "execution_count": null,
   "id": "executive-afghanistan",
   "metadata": {},
   "outputs": [],
   "source": []
  }
 ],
 "metadata": {
  "kernelspec": {
   "display_name": "Python 3",
   "language": "python",
   "name": "python3"
  },
  "language_info": {
   "codemirror_mode": {
    "name": "ipython",
    "version": 3
   },
   "file_extension": ".py",
   "mimetype": "text/x-python",
   "name": "python",
   "nbconvert_exporter": "python",
   "pygments_lexer": "ipython3",
   "version": "3.8.5"
  }
 },
 "nbformat": 4,
 "nbformat_minor": 5
}
